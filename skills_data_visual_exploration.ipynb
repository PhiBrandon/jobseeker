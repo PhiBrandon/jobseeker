{
 "cells": [
  {
   "cell_type": "code",
   "execution_count": 1,
   "metadata": {},
   "outputs": [
    {
     "name": "stdout",
     "output_type": "stream",
     "text": [
      "no stored variable or alias df\n"
     ]
    }
   ],
   "source": [
    "from wordcloud import WordCloud\n",
    "import matplotlib.pyplot as plt\n",
    "import pandas as pd\n",
    "import glob\n",
    "from collections import Counter\n",
    "import spacy\n",
    "%store -r df\n"
   ]
  },
  {
   "cell_type": "code",
   "execution_count": null,
   "metadata": {},
   "outputs": [],
   "source": [
    "\"\"\"# Get all CSV files in directory\n",
    "json_files = glob.glob(\"data/*.csv\")  # change it to the json file!!!!!!!!!!!!!!!!!!!!!!\n",
    "\n",
    "# Print the list of CSV files with numbering\n",
    "print(\"JSON Files:\")\n",
    "for i, file in enumerate(json_files, 1):\n",
    "    print(f\"{i}. {file}\")\"\"\""
   ]
  },
  {
   "cell_type": "code",
   "execution_count": null,
   "metadata": {},
   "outputs": [],
   "source": [
    "\"\"\"# Read Json files and concat to a single DF\n",
    "dfs = []\n",
    "for f in json_files:\n",
    "    try:\n",
    "        df = pd.read_csv(f)\n",
    "        print(f\"Read {len(df)} rows from {f}\")\n",
    "        dfs.append(df)\n",
    "    except pd.errors.EmptyDataError:\n",
    "        print(f\"Warning: {f} is empty\")\n",
    "\n",
    "# Concatenate DataFrames\n",
    "df = pd.concat(dfs, ignore_index=True)\"\"\""
   ]
  },
  {
   "cell_type": "code",
   "execution_count": null,
   "metadata": {},
   "outputs": [],
   "source": [
    "# Print the first five rows of the 'job_description' column, showing about 120 characters\n",
    "display(df[\"job_description\"].str.slice(0, 120).head(5))"
   ]
  },
  {
   "cell_type": "code",
   "execution_count": null,
   "metadata": {},
   "outputs": [],
   "source": [
    "# Extract text from all columns and concatenate\n",
    "columns_to_concat = [\n",
    "    \"job_title\",\n",
    "    \"company_name\",\n",
    "    \"location\",\n",
    "    \"job_link\",\n",
    "    \"job_id\",\n",
    "    \"job_description\",\n",
    "]\n",
    "texts = \" \".join(df[columns_to_concat].astype(str).apply(lambda x: \" \".join(x), axis=1))\n",
    "\n",
    "# Generate word cloud\n",
    "wordcloud = WordCloud(width=900, height=380, colormap=\"summer\").generate(texts)\n",
    "\n",
    "# Plot word cloud\n",
    "plt.figure(figsize=(16, 6))\n",
    "plt.imshow(wordcloud, interpolation=\"bilinear\")\n",
    "plt.title(\"\\nSkills Word Cloud\\n\", size=18, color=\"#222222\")\n",
    "plt.axis(\"off\")\n",
    "\n",
    "# Set the background color of the figure to white\n",
    "plt.gcf().patch.set_facecolor(\"white\")\n",
    "\n",
    "# Adjust layout to center the plot\n",
    "plt.tight_layout()\n",
    "\n",
    "plt.show()"
   ]
  },
  {
   "cell_type": "code",
   "execution_count": null,
   "metadata": {},
   "outputs": [],
   "source": [
    "# Load spaCy model\n",
    "nlp = spacy.load(\"en_core_web_sm\")\n",
    "\n",
    "# Tokenize the text\n",
    "doc = nlp(texts)\n",
    "\n",
    "# Perform frequency analysis\n",
    "word_freq = Counter(token.text for token in doc)\n",
    "\n",
    "# Display the most common words\n",
    "print(word_freq.most_common())\n",
    "\n",
    "# Display the top N most common words\n",
    "top_n = 20\n",
    "print(f\"Top {top_n} Most Common Words:\")\n",
    "for word, count in word_freq.most_common(top_n):\n",
    "    print(f\"{word}: {count}\")"
   ]
  },
  {
   "cell_type": "code",
   "execution_count": null,
   "metadata": {},
   "outputs": [],
   "source": [
    "# Display the top N most common words\n",
    "top_n = 25\n",
    "top_words, top_frequencies = zip(*word_freq.most_common(top_n))\n",
    "\n",
    "# Normalize frequencies to use as sizes for dots\n",
    "sizes = [freq * 10 for freq in top_frequencies]\n",
    "\n",
    "# Create a scatter plot\n",
    "plt.figure(figsize=(16, 4.5))\n",
    "ax = plt.gca()\n",
    "\n",
    "# Set the background color of the entire figure\n",
    "fig = plt.gcf()\n",
    "fig.patch.set_facecolor(\"white\")\n",
    "\n",
    "# Plot scatter points\n",
    "plt.scatter(top_words, top_frequencies, alpha=0.7, edgecolors=\"w\", marker=\"o\")\n",
    "\n",
    "# Style the plot\n",
    "plt.style.use(\"classic\")\n",
    "ax.grid(True)\n",
    "\n",
    "from matplotlib.colors import LogNorm\n",
    "\n",
    "# Create a scatter plot with different colors and sizes\n",
    "scatter = ax.scatter(\n",
    "    top_words,\n",
    "    top_frequencies,\n",
    "    c=top_frequencies,\n",
    "    cmap=\"summer\",\n",
    "    s=sizes,\n",
    "    alpha=0.7,\n",
    "    edgecolors=\"w\",\n",
    "    marker=\"o\",\n",
    "    norm=LogNorm(),\n",
    ")\n",
    "\n",
    "# Set plot title with background color\n",
    "plt.title(\"\\nTop 25 Word Frequency Scatter Plot\\n\", size=18, color=\"#222222\")\n",
    "\n",
    "# Label the axes\n",
    "plt.xlabel(\"\\nWords\\n\", size=14, color=\"#222222\")\n",
    "plt.ylabel(\"\\nFrequency\\n\", size=14, color=\"#222222\")\n",
    "\n",
    "# Rotate x-axis labels for better readability\n",
    "plt.xticks(rotation=35, ha=\"right\", color=\"#333333\")\n",
    "plt.yticks(color=\"#333333\")\n",
    "\n",
    "# Remove top and right spines\n",
    "ax.spines[\"top\"].set_visible(False)\n",
    "ax.spines[\"right\"].set_visible(False)\n",
    "\n",
    "# Set the left and bottom spines to grey color\n",
    "ax.spines[\"left\"].set_color(\"grey\")\n",
    "ax.spines[\"bottom\"].set_color(\"grey\")\n",
    "\n",
    "# Display the plot\n",
    "plt.show()"
   ]
  },
  {
   "cell_type": "code",
   "execution_count": null,
   "metadata": {},
   "outputs": [],
   "source": [
    "import plotly.express as px\n",
    "\n",
    "# Assuming 'df' is your DataFrame with frequency data\n",
    "fig = px.scatter(\n",
    "    df,\n",
    "    x=\"Skill\",\n",
    "    y=\"Frequency\",\n",
    "    color=\"Cluster\",\n",
    "    size=\"Frequency\",\n",
    "    hover_data=[\"Reference Text\"],\n",
    ")\n",
    "\n",
    "# To display the interactive plot in Jupyter Notebook or Jupyter Lab\n",
    "fig.show()"
   ]
  }
 ],
 "metadata": {
  "kernelspec": {
   "display_name": "jobseeker",
   "language": "python",
   "name": "python3"
  },
  "language_info": {
   "codemirror_mode": {
    "name": "ipython",
    "version": 3
   },
   "file_extension": ".py",
   "mimetype": "text/x-python",
   "name": "python",
   "nbconvert_exporter": "python",
   "pygments_lexer": "ipython3",
   "version": "3.11.5"
  }
 },
 "nbformat": 4,
 "nbformat_minor": 2
}
