{
 "cells": [
  {
   "cell_type": "code",
   "execution_count": 1,
   "metadata": {},
   "outputs": [],
   "source": [
    "from llama_index import PromptTemplate\n",
    "from llama_index.llms import Bedrock, ChatMessage\n",
    "from llama_index.program import LLMTextCompletionProgram\n",
    "from llama_index.output_parsers import PydanticOutputParser\n",
    "from pydantic import BaseModel, Field\n",
    "from typing import List\n",
    "import pandas as pd"
   ]
  },
  {
   "cell_type": "code",
   "execution_count": 2,
   "metadata": {},
   "outputs": [],
   "source": [
    "# Need to have AWS creddentials loaded into environment\n",
    "# This could be previously done in ~/.aws/credentials\n",
    "bedrock = Bedrock(model=\"anthropic.claude-v2\", max_tokens=8000)"
   ]
  },
  {
   "cell_type": "code",
   "execution_count": 7,
   "metadata": {},
   "outputs": [
    {
     "data": {
      "text/plain": [
       "ChatResponse(message=ChatMessage(role=<MessageRole.ASSISTANT: 'assistant'>, content=\" Pi (π) is a mathematical constant that represents the ratio of a circle's circumference to its diameter. It is an irrational number that begins with 3.14159... and continues infinitely without repeating. Some key facts about pi:\\n\\n- Pi is approximately equal to 3.14 or 22/7. However, pi is an irrational number, meaning its digits go on forever without repeating.\\n\\n- Pi is often represented by the Greek letter π. This notation was introduced by William Jones in 1706. \\n\\n- The value of pi cannot be expressed exactly as a fraction. However, 22/7 and other fractional approximations are commonly used. \\n\\n- Pi is defined as the ratio of a circle's circumference C to its diameter d. Mathematically, π = C/d.\\n\\n- Many formulas in mathematics, science and engineering involve pi. It appears in equations dealing with circles, spheres, trigonometry, waves and many other areas. \\n\\n- Pi is a transcendental number. This means it is not the root of any polynomial with rational coefficients.\\n\\n- Various algorithms can be used to calculate the value of pi to billions or even trillions of digits. However, only about 40 digits are needed for most practical applications involving pi.\\n\\nSo in summary, pi is the fundamental mathematical constant that relates a circle's diameter to its circumference. It has an infinite number of digits that continue without a discernible pattern. Pi is essential across mathematics and its applications.\", additional_kwargs={}), raw={'completion': \" Pi (π) is a mathematical constant that represents the ratio of a circle's circumference to its diameter. It is an irrational number that begins with 3.14159... and continues infinitely without repeating. Some key facts about pi:\\n\\n- Pi is approximately equal to 3.14 or 22/7. However, pi is an irrational number, meaning its digits go on forever without repeating.\\n\\n- Pi is often represented by the Greek letter π. This notation was introduced by William Jones in 1706. \\n\\n- The value of pi cannot be expressed exactly as a fraction. However, 22/7 and other fractional approximations are commonly used. \\n\\n- Pi is defined as the ratio of a circle's circumference C to its diameter d. Mathematically, π = C/d.\\n\\n- Many formulas in mathematics, science and engineering involve pi. It appears in equations dealing with circles, spheres, trigonometry, waves and many other areas. \\n\\n- Pi is a transcendental number. This means it is not the root of any polynomial with rational coefficients.\\n\\n- Various algorithms can be used to calculate the value of pi to billions or even trillions of digits. However, only about 40 digits are needed for most practical applications involving pi.\\n\\nSo in summary, pi is the fundamental mathematical constant that relates a circle's diameter to its circumference. It has an infinite number of digits that continue without a discernible pattern. Pi is essential across mathematics and its applications.\", 'stop_reason': 'stop_sequence', 'stop': '\\n\\nHuman:'}, delta=None, additional_kwargs={})"
      ]
     },
     "execution_count": 7,
     "metadata": {},
     "output_type": "execute_result"
    }
   ],
   "source": [
    "bedrock.chat([ChatMessage(role=\"user\", content=\"What is pi\")])"
   ]
  },
  {
   "cell_type": "code",
   "execution_count": 10,
   "metadata": {},
   "outputs": [],
   "source": [
    "# Load the raw data\n",
    "job_df = pd.read_csv(\"../data/bronze/apify/indeed/dataset_indeed-scraper_2023-10-23_07-07-15.csv\")\n",
    "descriptions = job_df['description'].to_list()"
   ]
  },
  {
   "cell_type": "code",
   "execution_count": 9,
   "metadata": {},
   "outputs": [],
   "source": [
    "# Create the pydantic class to output into\n",
    "\n",
    "class Skill(BaseModel):\n",
    "    name: str\n",
    "    reference_text: str\n",
    "\n",
    "class Job(BaseModel):\n",
    "    #original_description: str\n",
    "    skills: List[Skill]\n",
    "\n",
    "# Create the program to parse each description\n",
    "job_program = LLMTextCompletionProgram.from_defaults(\n",
    "    output_parser=PydanticOutputParser(Job),\n",
    "    llm=bedrock,\n",
    "    prompt_template_str=\"Extract the Job skills, with the reference text to that skill, from the following description: {description}\",\n",
    "    verbose=True\n",
    ")"
   ]
  },
  {
   "cell_type": "code",
   "execution_count": 18,
   "metadata": {},
   "outputs": [],
   "source": [
    "test_output = job_program(description=descriptions[0])"
   ]
  },
  {
   "cell_type": "code",
   "execution_count": 34,
   "metadata": {},
   "outputs": [
    {
     "name": "stdout",
     "output_type": "stream",
     "text": [
      "name='ETL' reference_text='We are seeking an experienced ETL (Extract, Transform, and Load) Data Engineer with expertise in Google Cloud Platform (GCP) to join our client data engineering team.'\n",
      "name='Google Cloud Platform' reference_text='We are seeking an experienced ETL (Extract, Transform, and Load) Data Engineer with expertise in Google Cloud Platform (GCP) to join our client data engineering team.'\n",
      "name='Data Pipeline Design' reference_text='· Design, develop, and maintain ETL pipelines on Google Cloud Platform (GCP) to ensure efficient data extraction, transformation, and loading processes.'\n",
      "name='Data Extraction' reference_text='· Extract data from various sources, including databases, APIs, and cloud storage, and ensure data quality and consistency.'\n",
      "name='Data Transformation' reference_text='· Implement data transformations, including cleaning, aggregation, and enrichment, to prepare data for analysis and reporting.'\n",
      "name='GCP Services' reference_text='· Design, build, and maintain ETL pipelines using GCP services like Dataflow, Dataprep, or other relevant tools.'\n",
      "name='ETL Optimization' reference_text='· Performance Optimization: Continuously optimize ETL processes for speed, efficiency, and scalability within the GCP environment.'\n"
     ]
    }
   ],
   "source": [
    "for skill in test_output.skills:\n",
    "    if skill.reference_text in descriptions[0]:\n",
    "        print(skill)\n",
    "    else:\n",
    "        print(skill.name, \"is not in the description\")"
   ]
  },
  {
   "cell_type": "code",
   "execution_count": 14,
   "metadata": {},
   "outputs": [
    {
     "name": "stdout",
     "output_type": "stream",
     "text": [
      "About the job\n",
      "            \n",
      " \n",
      "About RevolutPeople deserve more from their money. More visibility, more control, more freedom. And since 2015, Revolut has been on a mission to deliver just that. With an arsenal of aweso﻿me products that span spending, saving, travel, transfers, investing, exchanging and more, our super app has helped 35+ million customers get more from their money. And we're not done yet.  As we continue our lightning-fast growth,‌ two things are essential to continuing our success: our people and our culture. We've been officially certified as a Great Place to Work™ in recognition of our outstanding employee experience! So far, we have 7,500+﻿ people working around the world, from our great offices or remotely, on our mission. And we're looking for more. We want brilliant people that love building great products, love redefining success, and love turning the complexity of a chaotic world into the simplicity of a beautiful solution.About The RoleOn the Revolut rocket ship, there aren't many teams more important than Product. To put it simply: there’s no lift off without these guys. Frankly, there’s no rocket. Every one of our award-winning features started here and all our future ones will too 🏆The team’s scope is wide, leading on the integration of engineering, data science, operations, and design. But when it comes to our vision of reinventing financial services, they’re laser focused 🔫Product Owners at Revolut hold the helm 🚢 If you join the Dream Team, you’ll have sole responsibility over the roadmap of your product. Total ownership. The people, the profit, the loss, all in your hands. It’s fast paced. Very much so. But if you can manage all that - and bring with it a bottle full of entrepreneurial passion - then you’re probably the captain we’re looking for ⚓To find out more about our recent launch of Rev10 and hear from some of the people you will be working with, check out this video!What You’ll Be Doing Completely owning and building our Crypto Exchange product, increasing the number of tokens tradable in the application and providing the tools retail users expect from exchangesSetting your team's goals, success metrics, and roadmap to align with Revolut’s mission and drive maximum impact based on data analysis, market research, and company strategyWorking with our Core Crypto team to expand and improve our suite of crypto products, including deposits, withdrawals, and staking, making them more accessible for our retail usersWorking closely with Design and UX Research to define the customer journey and create an amazing user experienceLiaising with Engineering to ensure effective delivery of the productCollaborating with other stakeholders, such as Product Marketing, Legal, and Product Strategy\n",
      "What You'll Need 2-3 years of experience building a crypto exchange platform2+ years of proven success building the core functionality of trading products1+ years of experience in managing people (Product Owners at Revolut directly manage Engineering, Operations, and Design)Experience managing a team of product owners and delivering successful products from 0-1A STEM backgroundOutstanding verbal and written communication skillsAn eye for great UX/UI and a good understanding of design best practicesAn understanding of technical backend with integrations and APIsHigh analytical acumen along with strong business sense that guides ROI based prioritisationExperience formulating and driving a focused product vision, owning the narrative with leadership, users, and partnersA bias to action and bootstrapping major projects, never hesitating to roll up your sleeves and be hands onA readiness to provide insight and deliver measurable results for sophisticated products under ambiguous situations in a fast-paced environment\n",
      "Nice to have Experience in Trading/Quant\n",
      "Building a global financial super app isn’t enough. Our Revoluters are a priority, and that’s why in 2021 we launched our inaugural D&I Framework, designed to help us thrive and grow everyday. We're not just doing this because it's the right thing to do. We’re doing it because we know that seeking out diverse talent and creating an inclusive workplace is the way to create exceptional, innovative products and services for our customers. That’s why we encourage applications from people with diverse backgrounds and experiences to join this multicultural, hard-working team.Refer to our Data Privacy Statement for Candidates: https://www.revolut.com/legal/data-privacy-for-candidates for details on our data handling practices during your application.\n"
     ]
    }
   ],
   "source": [
    "# Test out some of the New data\n",
    "marco_csvs = pd.read_csv(\"../data/jobs_Head_of_Product_-_European_Union_-_Remote_-_LinkedIn.csv\")\n",
    "descriptions = marco_csvs['job_description'].to_list()\n",
    "print(descriptions[0])"
   ]
  },
  {
   "cell_type": "code",
   "execution_count": 10,
   "metadata": {},
   "outputs": [],
   "source": [
    "marco_test_output = job_program(description=descriptions[0])\n",
    "print(marco_test_output.skills)"
   ]
  },
  {
   "cell_type": "code",
   "execution_count": 13,
   "metadata": {},
   "outputs": [
    {
     "name": "stdout",
     "output_type": "stream",
     "text": [
      "name='Crypto Exchange Product Management' reference_text='Completely owning and building our Crypto Exchange product, increasing the number of tokens tradable in the application and providing the tools retail users expect from exchanges'\n",
      "name='Team Leadership' reference_text=\"Setting your team's goals, success metrics, and roadmap to align with Revolut’s mission and drive maximum impact based on data analysis, market research, and company strategy\"\n",
      "name='Crypto Product Development' reference_text='Working with our Core Crypto team to expand and improve our suite of crypto products, including deposits, withdrawals, and staking, making them more accessible for our retail users'\n",
      "name='UX Design' reference_text='Working closely with Design and UX Research to define the customer journey and create an amazing user experience'\n",
      "name='Engineering Collaboration' reference_text='Liaising with Engineering to ensure effective delivery of the product'\n",
      "name='Stakeholder Collaboration' reference_text='Collaborating with other stakeholders, such as Product Marketing, Legal, and Product Strategy'\n"
     ]
    }
   ],
   "source": [
    "for skill in marco_test_output.skills:\n",
    "    if skill.reference_text in descriptions[0]:\n",
    "        print(skill)\n",
    "    else:\n",
    "        print(skill.name, \"is not in the description\")"
   ]
  }
 ],
 "metadata": {
  "kernelspec": {
   "display_name": "Python 3",
   "language": "python",
   "name": "python3"
  },
  "language_info": {
   "codemirror_mode": {
    "name": "ipython",
    "version": 3
   },
   "file_extension": ".py",
   "mimetype": "text/x-python",
   "name": "python",
   "nbconvert_exporter": "python",
   "pygments_lexer": "ipython3",
   "version": "3.10.12"
  }
 },
 "nbformat": 4,
 "nbformat_minor": 2
}
