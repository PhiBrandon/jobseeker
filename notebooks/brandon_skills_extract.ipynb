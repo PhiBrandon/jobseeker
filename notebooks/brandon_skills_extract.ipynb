{
 "cells": [
  {
   "cell_type": "code",
   "execution_count": 15,
   "metadata": {},
   "outputs": [],
   "source": [
    "from llama_index import PromptTemplate\n",
    "from llama_index.llms import Bedrock, ChatMessage\n",
    "from llama_index.program import LLMTextCompletionProgram\n",
    "from llama_index.output_parsers import PydanticOutputParser\n",
    "from pydantic import BaseModel, Field\n",
    "from typing import List\n",
    "import pandas as pd"
   ]
  },
  {
   "cell_type": "code",
   "execution_count": 3,
   "metadata": {},
   "outputs": [],
   "source": [
    "# Need to have AWS creddentials loaded into environment\n",
    "# This could be previously done in ~/.aws/credentials\n",
    "bedrock = Bedrock(model=\"anthropic.claude-v2\", max_tokens=8000)"
   ]
  },
  {
   "cell_type": "code",
   "execution_count": 10,
   "metadata": {},
   "outputs": [],
   "source": [
    "# Load the raw data\n",
    "job_df = pd.read_csv(\"../data/bronze/apify/indeed/dataset_indeed-scraper_2023-10-23_07-07-15.csv\")\n",
    "descriptions = job_df['description'].to_list()"
   ]
  },
  {
   "cell_type": "code",
   "execution_count": 16,
   "metadata": {},
   "outputs": [],
   "source": [
    "# Create the pydantic class to output into\n",
    "\n",
    "class Skill(BaseModel):\n",
    "    name: str\n",
    "    reference_text: str\n",
    "\n",
    "class Job(BaseModel):\n",
    "    original_description: str\n",
    "    skills: List[Skill]\n",
    "\n",
    "# Create the program to parse each description\n",
    "job_program = LLMTextCompletionProgram.from_defaults(\n",
    "    output_parser=PydanticOutputParser(Job),\n",
    "    llm=bedrock,\n",
    "    prompt_template_str=\"Extract the Job skills, with the reference text to that skill, from the following description: {description}\",\n",
    "    verbose=True\n",
    ")"
   ]
  },
  {
   "cell_type": "code",
   "execution_count": 18,
   "metadata": {},
   "outputs": [],
   "source": [
    "test_output = job_program(description=descriptions[0])"
   ]
  },
  {
   "cell_type": "code",
   "execution_count": 34,
   "metadata": {},
   "outputs": [
    {
     "name": "stdout",
     "output_type": "stream",
     "text": [
      "name='ETL' reference_text='We are seeking an experienced ETL (Extract, Transform, and Load) Data Engineer with expertise in Google Cloud Platform (GCP) to join our client data engineering team.'\n",
      "name='Google Cloud Platform' reference_text='We are seeking an experienced ETL (Extract, Transform, and Load) Data Engineer with expertise in Google Cloud Platform (GCP) to join our client data engineering team.'\n",
      "name='Data Pipeline Design' reference_text='· Design, develop, and maintain ETL pipelines on Google Cloud Platform (GCP) to ensure efficient data extraction, transformation, and loading processes.'\n",
      "name='Data Extraction' reference_text='· Extract data from various sources, including databases, APIs, and cloud storage, and ensure data quality and consistency.'\n",
      "name='Data Transformation' reference_text='· Implement data transformations, including cleaning, aggregation, and enrichment, to prepare data for analysis and reporting.'\n",
      "name='GCP Services' reference_text='· Design, build, and maintain ETL pipelines using GCP services like Dataflow, Dataprep, or other relevant tools.'\n",
      "name='ETL Optimization' reference_text='· Performance Optimization: Continuously optimize ETL processes for speed, efficiency, and scalability within the GCP environment.'\n"
     ]
    }
   ],
   "source": [
    "for skill in test_output.skills:\n",
    "    if skill.reference_text in descriptions[0]:\n",
    "        print(skill)\n",
    "    else:\n",
    "        print(skill.name, \"is not in the description\")"
   ]
  }
 ],
 "metadata": {
  "kernelspec": {
   "display_name": "Python 3",
   "language": "python",
   "name": "python3"
  },
  "language_info": {
   "codemirror_mode": {
    "name": "ipython",
    "version": 3
   },
   "file_extension": ".py",
   "mimetype": "text/x-python",
   "name": "python",
   "nbconvert_exporter": "python",
   "pygments_lexer": "ipython3",
   "version": "3.10.12"
  }
 },
 "nbformat": 4,
 "nbformat_minor": 2
}
